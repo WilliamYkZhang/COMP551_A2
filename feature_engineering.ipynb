{
  "nbformat": 4,
  "nbformat_minor": 0,
  "metadata": {
    "colab": {
      "name": "feature_engineering.ipynb",
      "provenance": [],
      "collapsed_sections": [],
      "include_colab_link": true
    },
    "kernelspec": {
      "name": "python3",
      "display_name": "Python 3"
    }
  },
  "cells": [
    {
      "cell_type": "markdown",
      "metadata": {
        "id": "view-in-github",
        "colab_type": "text"
      },
      "source": [
        "<a href=\"https://colab.research.google.com/github/WilliamYkZhang/COMP551_A2/blob/master/feature_engineering.ipynb\" target=\"_parent\"><img src=\"https://colab.research.google.com/assets/colab-badge.svg\" alt=\"Open In Colab\"/></a>"
      ]
    },
    {
      "cell_type": "code",
      "metadata": {
        "id": "D1xhM5si4BND",
        "colab_type": "code",
        "colab": {}
      },
      "source": [
        "import pandas as pd \n",
        "import nltk\n",
        "from nltk.tokenize import word_tokenize\n",
        "from sklearn.preprocessing import MinMaxScaler\n",
        "import numpy as np\n",
        "import matplotlib.pyplot as plt"
      ],
      "execution_count": 0,
      "outputs": []
    },
    {
      "cell_type": "code",
      "metadata": {
        "id": "8TbiWQmdBUGs",
        "colab_type": "code",
        "colab": {
          "base_uri": "https://localhost:8080/",
          "height": 67
        },
        "outputId": "1b24730d-671b-471c-f29e-0bd9041690d9"
      },
      "source": [
        "nltk.download(\"punkt\")"
      ],
      "execution_count": 36,
      "outputs": [
        {
          "output_type": "stream",
          "text": [
            "[nltk_data] Downloading package punkt to /root/nltk_data...\n",
            "[nltk_data]   Package punkt is already up-to-date!\n"
          ],
          "name": "stdout"
        },
        {
          "output_type": "execute_result",
          "data": {
            "text/plain": [
              "True"
            ]
          },
          "metadata": {
            "tags": []
          },
          "execution_count": 36
        }
      ]
    },
    {
      "cell_type": "code",
      "metadata": {
        "id": "u85R7sj05v5g",
        "colab_type": "code",
        "colab": {}
      },
      "source": [
        "stemmed_df = pd.read_csv(\"https://raw.githubusercontent.com/WilliamYkZhang/COMP551_A2/master/preprocessed_reddit_train_SnowballStemmer.csv?token=AKKZG4FIMNL4RZOBOMSF2V25WNYXW\")\n",
        "# lemmatized_df = pd.read_csv(\"https://raw.githubusercontent.com/WilliamYkZhang/COMP551_A2/master/preprocessed_reddit_train_WordNetLemmatizer.csv?token=AKKZG4HQMPHQZO4UAY6WHHK5WNY6E\")"
      ],
      "execution_count": 0,
      "outputs": []
    },
    {
      "cell_type": "code",
      "metadata": {
        "id": "nLkLHE3lArvX",
        "colab_type": "code",
        "colab": {}
      },
      "source": [
        "def word_count(sentence):\n",
        "  return len(word_tokenize(sentence))\n",
        "\n",
        "def comment_length(sentence):\n",
        "  return len(sentence)"
      ],
      "execution_count": 0,
      "outputs": []
    },
    {
      "cell_type": "code",
      "metadata": {
        "id": "8l_2hdlV6lBn",
        "colab_type": "code",
        "colab": {
          "base_uri": "https://localhost:8080/",
          "height": 1000
        },
        "outputId": "f56d9471-a41a-42ba-a323-238e89b757aa"
      },
      "source": [
        "# Create scaler \n",
        "scaler = MinMaxScaler()\n",
        "\n",
        "# Number of word\n",
        "stemmed_df[\"word_count\"] = stemmed_df[\"cleaned\"].apply(word_count)\n",
        "\n",
        "# Length of comments\n",
        "stemmed_df[\"comment_length\"] = stemmed_df[\"cleaned\"].apply(comment_length))"
      ],
      "execution_count": 46,
      "outputs": [
        {
          "output_type": "stream",
          "text": [
            "       word_count  comment_length\n",
            "0              60             315\n",
            "1              29             139\n",
            "2              23             132\n",
            "3              25             112\n",
            "4              45             198\n",
            "5              11              42\n",
            "6              75             335\n",
            "7              17              87\n",
            "8              45             218\n",
            "9              42             184\n",
            "10             32             144\n",
            "11             12              49\n",
            "12             12              49\n",
            "13             11              51\n",
            "14             17              71\n",
            "15             16              73\n",
            "16             38             177\n",
            "17             24             120\n",
            "18             52             269\n",
            "19             11              53\n",
            "20             26             122\n",
            "21            292            1308\n",
            "22             71             349\n",
            "23             12              60\n",
            "24             48             219\n",
            "25             63             381\n",
            "26             19              82\n",
            "27             18              81\n",
            "28             16              76\n",
            "29             13              65\n",
            "...           ...             ...\n",
            "69970          49             234\n",
            "69971          24             118\n",
            "69972          16              72\n",
            "69973          29             138\n",
            "69974         637            3560\n",
            "69975          81             372\n",
            "69976          26             129\n",
            "69977          12              69\n",
            "69978          21              96\n",
            "69979          29             109\n",
            "69980          13              62\n",
            "69981          33             161\n",
            "69982          32             129\n",
            "69983          86             397\n",
            "69984          54             243\n",
            "69985          26             113\n",
            "69986          16              72\n",
            "69987          22             101\n",
            "69988         100             521\n",
            "69989          10              49\n",
            "69990          26             119\n",
            "69991          39             176\n",
            "69992          15              78\n",
            "69993          14              66\n",
            "69994          63             331\n",
            "69995          54             316\n",
            "69996          11              53\n",
            "69997          37             162\n",
            "69998          30             181\n",
            "69999          42             186\n",
            "\n",
            "[70000 rows x 2 columns]\n"
          ],
          "name": "stdout"
        }
      ]
    },
    {
      "cell_type": "code",
      "metadata": {
        "id": "QPyRlX_THfUl",
        "colab_type": "code",
        "colab": {
          "base_uri": "https://localhost:8080/",
          "height": 756
        },
        "outputId": "0dcb9fec-2e2a-4c0d-caa5-45f9ec9d9e7a"
      },
      "source": [
        "# Using plots to inspect correlation of the comment length and the subreddit category\n",
        "average_comment_length = pd.DataFrame(stemmed_df.groupby(\"subreddits\").comment_length.mean())\n",
        "average_word_count = pd.DataFrame(stemmed_df.groupby(\"subreddits\", as_index=True).word_count.mean())\n",
        "# .reset_index(drop=True)\n",
        "\n",
        "print(average_comment_length)\n",
        "print(average_word_count)"
      ],
      "execution_count": 62,
      "outputs": [
        {
          "output_type": "stream",
          "text": [
            "                 comment_length\n",
            "subreddits                     \n",
            "AskReddit            222.838571\n",
            "GlobalOffensive      165.982857\n",
            "Music                375.815714\n",
            "Overwatch            231.803714\n",
            "anime                224.969429\n",
            "baseball             161.841429\n",
            "canada               259.047714\n",
            "conspiracy           260.557143\n",
            "europe               250.288571\n",
            "funny                153.306857\n",
            "gameofthrones        223.049429\n",
            "hockey               171.525143\n",
            "leagueoflegends      195.143429\n",
            "movies               202.532571\n",
            "nba                  162.124000\n",
            "nfl                  195.779714\n",
            "soccer               171.698000\n",
            "trees                160.914286\n",
            "worldnews            256.345714\n",
            "wow                  230.638000\n",
            "                 word_count\n",
            "subreddits                 \n",
            "AskReddit         46.658286\n",
            "GlobalOffensive   34.025143\n",
            "Music             72.070286\n",
            "Overwatch         47.680857\n",
            "anime             45.901429\n",
            "baseball          33.861714\n",
            "canada            52.106857\n",
            "conspiracy        51.450286\n",
            "europe            49.448571\n",
            "funny             32.184000\n",
            "gameofthrones     44.305429\n",
            "hockey            35.706286\n",
            "leagueoflegends   41.010000\n",
            "movies            42.054286\n",
            "nba               34.210571\n",
            "nfl               41.040857\n",
            "soccer            35.679143\n",
            "trees             34.367714\n",
            "worldnews         50.615429\n",
            "wow               47.870857\n"
          ],
          "name": "stdout"
        }
      ]
    },
    {
      "cell_type": "code",
      "metadata": {
        "id": "T4c5zoiHWibp",
        "colab_type": "code",
        "colab": {}
      },
      "source": [
        "# Normalize number of words\n",
        "# stemmed_df[\"word_count\"] = scaler.fit_transform(stemmed_df[\"word_count\"].to_numpy().reshape(-1,1))\n",
        "# stemmed_df[\"comment_length\"] = scaler.fit_transform(stemmed_df[\"word_count\"].to_numpy().reshape(-1,1))\n",
        "\n",
        "print(stemmed_df[[\"word_count\", \"comment_length\"]]"
      ],
      "execution_count": 0,
      "outputs": []
    },
    {
      "cell_type": "code",
      "metadata": {
        "id": "iaLt8L2q6Jat",
        "colab_type": "code",
        "colab": {
          "base_uri": "https://localhost:8080/",
          "height": 669
        },
        "outputId": "992b52ea-6224-4c4e-d60f-75d7bfccf6e2"
      },
      "source": [
        "stemmed_df.groupby(\"label\").count()"
      ],
      "execution_count": 3,
      "outputs": [
        {
          "output_type": "execute_result",
          "data": {
            "text/html": [
              "<div>\n",
              "<style scoped>\n",
              "    .dataframe tbody tr th:only-of-type {\n",
              "        vertical-align: middle;\n",
              "    }\n",
              "\n",
              "    .dataframe tbody tr th {\n",
              "        vertical-align: top;\n",
              "    }\n",
              "\n",
              "    .dataframe thead th {\n",
              "        text-align: right;\n",
              "    }\n",
              "</style>\n",
              "<table border=\"1\" class=\"dataframe\">\n",
              "  <thead>\n",
              "    <tr style=\"text-align: right;\">\n",
              "      <th></th>\n",
              "      <th>id</th>\n",
              "      <th>comments</th>\n",
              "      <th>subreddits</th>\n",
              "      <th>cleaned</th>\n",
              "    </tr>\n",
              "    <tr>\n",
              "      <th>label</th>\n",
              "      <th></th>\n",
              "      <th></th>\n",
              "      <th></th>\n",
              "      <th></th>\n",
              "    </tr>\n",
              "  </thead>\n",
              "  <tbody>\n",
              "    <tr>\n",
              "      <th>0</th>\n",
              "      <td>3500</td>\n",
              "      <td>3500</td>\n",
              "      <td>3500</td>\n",
              "      <td>3500</td>\n",
              "    </tr>\n",
              "    <tr>\n",
              "      <th>1</th>\n",
              "      <td>3500</td>\n",
              "      <td>3500</td>\n",
              "      <td>3500</td>\n",
              "      <td>3500</td>\n",
              "    </tr>\n",
              "    <tr>\n",
              "      <th>2</th>\n",
              "      <td>3500</td>\n",
              "      <td>3500</td>\n",
              "      <td>3500</td>\n",
              "      <td>3500</td>\n",
              "    </tr>\n",
              "    <tr>\n",
              "      <th>3</th>\n",
              "      <td>3500</td>\n",
              "      <td>3500</td>\n",
              "      <td>3500</td>\n",
              "      <td>3500</td>\n",
              "    </tr>\n",
              "    <tr>\n",
              "      <th>4</th>\n",
              "      <td>3500</td>\n",
              "      <td>3500</td>\n",
              "      <td>3500</td>\n",
              "      <td>3500</td>\n",
              "    </tr>\n",
              "    <tr>\n",
              "      <th>5</th>\n",
              "      <td>3500</td>\n",
              "      <td>3500</td>\n",
              "      <td>3500</td>\n",
              "      <td>3500</td>\n",
              "    </tr>\n",
              "    <tr>\n",
              "      <th>6</th>\n",
              "      <td>3500</td>\n",
              "      <td>3500</td>\n",
              "      <td>3500</td>\n",
              "      <td>3500</td>\n",
              "    </tr>\n",
              "    <tr>\n",
              "      <th>7</th>\n",
              "      <td>3500</td>\n",
              "      <td>3500</td>\n",
              "      <td>3500</td>\n",
              "      <td>3500</td>\n",
              "    </tr>\n",
              "    <tr>\n",
              "      <th>8</th>\n",
              "      <td>3500</td>\n",
              "      <td>3500</td>\n",
              "      <td>3500</td>\n",
              "      <td>3500</td>\n",
              "    </tr>\n",
              "    <tr>\n",
              "      <th>9</th>\n",
              "      <td>3500</td>\n",
              "      <td>3500</td>\n",
              "      <td>3500</td>\n",
              "      <td>3500</td>\n",
              "    </tr>\n",
              "    <tr>\n",
              "      <th>10</th>\n",
              "      <td>3500</td>\n",
              "      <td>3500</td>\n",
              "      <td>3500</td>\n",
              "      <td>3500</td>\n",
              "    </tr>\n",
              "    <tr>\n",
              "      <th>11</th>\n",
              "      <td>3500</td>\n",
              "      <td>3500</td>\n",
              "      <td>3500</td>\n",
              "      <td>3500</td>\n",
              "    </tr>\n",
              "    <tr>\n",
              "      <th>12</th>\n",
              "      <td>3500</td>\n",
              "      <td>3500</td>\n",
              "      <td>3500</td>\n",
              "      <td>3500</td>\n",
              "    </tr>\n",
              "    <tr>\n",
              "      <th>13</th>\n",
              "      <td>3500</td>\n",
              "      <td>3500</td>\n",
              "      <td>3500</td>\n",
              "      <td>3500</td>\n",
              "    </tr>\n",
              "    <tr>\n",
              "      <th>14</th>\n",
              "      <td>3500</td>\n",
              "      <td>3500</td>\n",
              "      <td>3500</td>\n",
              "      <td>3500</td>\n",
              "    </tr>\n",
              "    <tr>\n",
              "      <th>15</th>\n",
              "      <td>3500</td>\n",
              "      <td>3500</td>\n",
              "      <td>3500</td>\n",
              "      <td>3500</td>\n",
              "    </tr>\n",
              "    <tr>\n",
              "      <th>16</th>\n",
              "      <td>3500</td>\n",
              "      <td>3500</td>\n",
              "      <td>3500</td>\n",
              "      <td>3500</td>\n",
              "    </tr>\n",
              "    <tr>\n",
              "      <th>17</th>\n",
              "      <td>3500</td>\n",
              "      <td>3500</td>\n",
              "      <td>3500</td>\n",
              "      <td>3500</td>\n",
              "    </tr>\n",
              "    <tr>\n",
              "      <th>18</th>\n",
              "      <td>3500</td>\n",
              "      <td>3500</td>\n",
              "      <td>3500</td>\n",
              "      <td>3500</td>\n",
              "    </tr>\n",
              "    <tr>\n",
              "      <th>19</th>\n",
              "      <td>3500</td>\n",
              "      <td>3500</td>\n",
              "      <td>3500</td>\n",
              "      <td>3500</td>\n",
              "    </tr>\n",
              "  </tbody>\n",
              "</table>\n",
              "</div>"
            ],
            "text/plain": [
              "         id  comments  subreddits  cleaned\n",
              "label                                     \n",
              "0      3500      3500        3500     3500\n",
              "1      3500      3500        3500     3500\n",
              "2      3500      3500        3500     3500\n",
              "3      3500      3500        3500     3500\n",
              "4      3500      3500        3500     3500\n",
              "5      3500      3500        3500     3500\n",
              "6      3500      3500        3500     3500\n",
              "7      3500      3500        3500     3500\n",
              "8      3500      3500        3500     3500\n",
              "9      3500      3500        3500     3500\n",
              "10     3500      3500        3500     3500\n",
              "11     3500      3500        3500     3500\n",
              "12     3500      3500        3500     3500\n",
              "13     3500      3500        3500     3500\n",
              "14     3500      3500        3500     3500\n",
              "15     3500      3500        3500     3500\n",
              "16     3500      3500        3500     3500\n",
              "17     3500      3500        3500     3500\n",
              "18     3500      3500        3500     3500\n",
              "19     3500      3500        3500     3500"
            ]
          },
          "metadata": {
            "tags": []
          },
          "execution_count": 3
        }
      ]
    },
    {
      "cell_type": "code",
      "metadata": {
        "id": "aatNAlyt6UGq",
        "colab_type": "code",
        "colab": {}
      },
      "source": [
        ""
      ],
      "execution_count": 0,
      "outputs": []
    }
  ]
}